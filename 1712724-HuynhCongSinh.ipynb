{
 "cells": [
  {
   "cell_type": "markdown",
   "metadata": {},
   "source": [
    "# ĐỒ ÁN CUỐI KỲ\n",
    "\n",
    "Họ tên: Huỳnh Công Sinh\n",
    "\n",
    "MSSV: 1712724"
   ]
  },
  {
   "cell_type": "markdown",
   "metadata": {},
   "source": [
    "**Giới thiệu**\n",
    "\n",
    "Em thấy rằng trong những năm gần đây, những thảm họa thiên nhiên xuất hiện ngày càng nhiều. Không những thế, mức độ nghiêm trọng của nó cũng có dấu hiệu tăng lên. Do đó, ở trong đồ án cuối kỳ môn Lập trình cho Khoa học dữ liệu, em sẽ nghiên cứu về vấn đề này."
   ]
  },
  {
   "cell_type": "markdown",
   "metadata": {},
   "source": [
    "## Import"
   ]
  },
  {
   "cell_type": "code",
   "execution_count": 2,
   "metadata": {},
   "outputs": [],
   "source": [
    "%matplotlib inline\n",
    "import matplotlib.pyplot as plt\n",
    "import pandas as pd\n",
    "import numpy as np"
   ]
  },
  {
   "cell_type": "markdown",
   "metadata": {},
   "source": [
    "## Lấy dữ liệu"
   ]
  },
  {
   "cell_type": "markdown",
   "metadata": {},
   "source": [
    "- Tài liệu nghiên cứu của em là file 'Disaster.csv'. File này tổng hợp các thảm họa thiên nhiên về địa lý, khí tượng, thủy văn, khí hậu. \n",
    "- Trong file này, địa điểm thu thập dữ liệu bao gồm có **châu Á** và **châu Đại Dương** từ năm **2000 đến nay**."
   ]
  },
  {
   "cell_type": "markdown",
   "metadata": {},
   "source": [
    "---"
   ]
  },
  {
   "cell_type": "markdown",
   "metadata": {},
   "source": [
    "## Khám phá dữ liệu"
   ]
  },
  {
   "cell_type": "markdown",
   "metadata": {},
   "source": [
    "### Đọc dữ liệu vào dataframe"
   ]
  },
  {
   "cell_type": "code",
   "execution_count": 3,
   "metadata": {},
   "outputs": [
    {
     "data": {
      "text/html": [
       "<div>\n",
       "<style scoped>\n",
       "    .dataframe tbody tr th:only-of-type {\n",
       "        vertical-align: middle;\n",
       "    }\n",
       "\n",
       "    .dataframe tbody tr th {\n",
       "        vertical-align: top;\n",
       "    }\n",
       "\n",
       "    .dataframe thead th {\n",
       "        text-align: right;\n",
       "    }\n",
       "</style>\n",
       "<table border=\"1\" class=\"dataframe\">\n",
       "  <thead>\n",
       "    <tr style=\"text-align: right;\">\n",
       "      <th></th>\n",
       "      <th>Dis No</th>\n",
       "      <th>Year</th>\n",
       "      <th>Seq</th>\n",
       "      <th>Disaster Group</th>\n",
       "      <th>Disaster Subgroup</th>\n",
       "      <th>Disaster Type</th>\n",
       "      <th>Disaster Subtype</th>\n",
       "      <th>Disaster Subsubtype</th>\n",
       "      <th>Event Name</th>\n",
       "      <th>Entry Criteria</th>\n",
       "      <th>...</th>\n",
       "      <th>End Day</th>\n",
       "      <th>Total Deaths</th>\n",
       "      <th>No Injured</th>\n",
       "      <th>No Affected</th>\n",
       "      <th>No Homeless</th>\n",
       "      <th>Total Affected</th>\n",
       "      <th>Reconstruction Costs ('000 US$)</th>\n",
       "      <th>Insured Damages ('000 US$)</th>\n",
       "      <th>Total Damages ('000 US$)</th>\n",
       "      <th>CPI</th>\n",
       "    </tr>\n",
       "  </thead>\n",
       "  <tbody>\n",
       "    <tr>\n",
       "      <th>0</th>\n",
       "      <td>2000-0372-CHN</td>\n",
       "      <td>2000</td>\n",
       "      <td>372</td>\n",
       "      <td>Natural</td>\n",
       "      <td>Hydrological</td>\n",
       "      <td>Flood</td>\n",
       "      <td>Riverine flood</td>\n",
       "      <td>NaN</td>\n",
       "      <td>NaN</td>\n",
       "      <td>Kill</td>\n",
       "      <td>...</td>\n",
       "      <td>30.0</td>\n",
       "      <td>43.0</td>\n",
       "      <td>10.0</td>\n",
       "      <td>NaN</td>\n",
       "      <td>31000.0</td>\n",
       "      <td>31010.0</td>\n",
       "      <td>NaN</td>\n",
       "      <td>NaN</td>\n",
       "      <td>19000.0</td>\n",
       "      <td>67.355759</td>\n",
       "    </tr>\n",
       "    <tr>\n",
       "      <th>1</th>\n",
       "      <td>2000-9186-AFG</td>\n",
       "      <td>2000</td>\n",
       "      <td>9186</td>\n",
       "      <td>Natural</td>\n",
       "      <td>Climatological</td>\n",
       "      <td>Drought</td>\n",
       "      <td>Drought</td>\n",
       "      <td>NaN</td>\n",
       "      <td>NaN</td>\n",
       "      <td>Affected</td>\n",
       "      <td>...</td>\n",
       "      <td>NaN</td>\n",
       "      <td>37.0</td>\n",
       "      <td>NaN</td>\n",
       "      <td>2580000.0</td>\n",
       "      <td>NaN</td>\n",
       "      <td>2580000.0</td>\n",
       "      <td>NaN</td>\n",
       "      <td>NaN</td>\n",
       "      <td>50.0</td>\n",
       "      <td>67.355759</td>\n",
       "    </tr>\n",
       "    <tr>\n",
       "      <th>2</th>\n",
       "      <td>2000-0373-BGD</td>\n",
       "      <td>2000</td>\n",
       "      <td>373</td>\n",
       "      <td>Natural</td>\n",
       "      <td>Hydrological</td>\n",
       "      <td>Flood</td>\n",
       "      <td>Flash flood</td>\n",
       "      <td>NaN</td>\n",
       "      <td>NaN</td>\n",
       "      <td>Affect</td>\n",
       "      <td>...</td>\n",
       "      <td>24.0</td>\n",
       "      <td>11.0</td>\n",
       "      <td>50.0</td>\n",
       "      <td>200000.0</td>\n",
       "      <td>NaN</td>\n",
       "      <td>200050.0</td>\n",
       "      <td>NaN</td>\n",
       "      <td>NaN</td>\n",
       "      <td>NaN</td>\n",
       "      <td>67.355759</td>\n",
       "    </tr>\n",
       "    <tr>\n",
       "      <th>3</th>\n",
       "      <td>2000-0484-BTN</td>\n",
       "      <td>2000</td>\n",
       "      <td>484</td>\n",
       "      <td>Natural</td>\n",
       "      <td>Hydrological</td>\n",
       "      <td>Flood</td>\n",
       "      <td>Riverine flood</td>\n",
       "      <td>NaN</td>\n",
       "      <td>NaN</td>\n",
       "      <td>Kill</td>\n",
       "      <td>...</td>\n",
       "      <td>30.0</td>\n",
       "      <td>200.0</td>\n",
       "      <td>NaN</td>\n",
       "      <td>NaN</td>\n",
       "      <td>1000.0</td>\n",
       "      <td>1000.0</td>\n",
       "      <td>NaN</td>\n",
       "      <td>NaN</td>\n",
       "      <td>NaN</td>\n",
       "      <td>67.355759</td>\n",
       "    </tr>\n",
       "    <tr>\n",
       "      <th>4</th>\n",
       "      <td>2000-0677-CHN</td>\n",
       "      <td>2000</td>\n",
       "      <td>677</td>\n",
       "      <td>Natural</td>\n",
       "      <td>Hydrological</td>\n",
       "      <td>Flood</td>\n",
       "      <td>Flash flood</td>\n",
       "      <td>NaN</td>\n",
       "      <td>NaN</td>\n",
       "      <td>Affect</td>\n",
       "      <td>...</td>\n",
       "      <td>18.0</td>\n",
       "      <td>10.0</td>\n",
       "      <td>NaN</td>\n",
       "      <td>200000.0</td>\n",
       "      <td>NaN</td>\n",
       "      <td>200000.0</td>\n",
       "      <td>NaN</td>\n",
       "      <td>NaN</td>\n",
       "      <td>25366.0</td>\n",
       "      <td>67.355759</td>\n",
       "    </tr>\n",
       "    <tr>\n",
       "      <th>5</th>\n",
       "      <td>2000-0920-CHN</td>\n",
       "      <td>2000</td>\n",
       "      <td>920</td>\n",
       "      <td>Natural</td>\n",
       "      <td>Hydrological</td>\n",
       "      <td>Flood</td>\n",
       "      <td>Riverine flood</td>\n",
       "      <td>NaN</td>\n",
       "      <td>NaN</td>\n",
       "      <td>Kill</td>\n",
       "      <td>...</td>\n",
       "      <td>5.0</td>\n",
       "      <td>26.0</td>\n",
       "      <td>NaN</td>\n",
       "      <td>NaN</td>\n",
       "      <td>4500.0</td>\n",
       "      <td>4500.0</td>\n",
       "      <td>NaN</td>\n",
       "      <td>NaN</td>\n",
       "      <td>5000.0</td>\n",
       "      <td>67.355759</td>\n",
       "    </tr>\n",
       "    <tr>\n",
       "      <th>6</th>\n",
       "      <td>2000-0472-CHN</td>\n",
       "      <td>2000</td>\n",
       "      <td>472</td>\n",
       "      <td>Natural</td>\n",
       "      <td>Hydrological</td>\n",
       "      <td>Flood</td>\n",
       "      <td>NaN</td>\n",
       "      <td>NaN</td>\n",
       "      <td>NaN</td>\n",
       "      <td>Kill</td>\n",
       "      <td>...</td>\n",
       "      <td>14.0</td>\n",
       "      <td>203.0</td>\n",
       "      <td>214.0</td>\n",
       "      <td>NaN</td>\n",
       "      <td>18000.0</td>\n",
       "      <td>18214.0</td>\n",
       "      <td>NaN</td>\n",
       "      <td>NaN</td>\n",
       "      <td>172000.0</td>\n",
       "      <td>67.355759</td>\n",
       "    </tr>\n",
       "    <tr>\n",
       "      <th>7</th>\n",
       "      <td>2000-9495-ARM</td>\n",
       "      <td>2000</td>\n",
       "      <td>9495</td>\n",
       "      <td>Natural</td>\n",
       "      <td>Climatological</td>\n",
       "      <td>Drought</td>\n",
       "      <td>Drought</td>\n",
       "      <td>NaN</td>\n",
       "      <td>NaN</td>\n",
       "      <td>Affected</td>\n",
       "      <td>...</td>\n",
       "      <td>NaN</td>\n",
       "      <td>NaN</td>\n",
       "      <td>NaN</td>\n",
       "      <td>297000.0</td>\n",
       "      <td>NaN</td>\n",
       "      <td>297000.0</td>\n",
       "      <td>NaN</td>\n",
       "      <td>NaN</td>\n",
       "      <td>100000.0</td>\n",
       "      <td>67.355759</td>\n",
       "    </tr>\n",
       "    <tr>\n",
       "      <th>8</th>\n",
       "      <td>2000-0097-AUS</td>\n",
       "      <td>2000</td>\n",
       "      <td>97</td>\n",
       "      <td>Natural</td>\n",
       "      <td>Meteorological</td>\n",
       "      <td>Storm</td>\n",
       "      <td>Tropical cyclone</td>\n",
       "      <td>NaN</td>\n",
       "      <td>Steve</td>\n",
       "      <td>Declar/Int</td>\n",
       "      <td>...</td>\n",
       "      <td>13.0</td>\n",
       "      <td>1.0</td>\n",
       "      <td>NaN</td>\n",
       "      <td>200.0</td>\n",
       "      <td>NaN</td>\n",
       "      <td>200.0</td>\n",
       "      <td>NaN</td>\n",
       "      <td>10000.0</td>\n",
       "      <td>90000.0</td>\n",
       "      <td>67.355759</td>\n",
       "    </tr>\n",
       "    <tr>\n",
       "      <th>9</th>\n",
       "      <td>2000-0283-BGD</td>\n",
       "      <td>2000</td>\n",
       "      <td>283</td>\n",
       "      <td>Natural</td>\n",
       "      <td>Meteorological</td>\n",
       "      <td>Storm</td>\n",
       "      <td>NaN</td>\n",
       "      <td>NaN</td>\n",
       "      <td>NaN</td>\n",
       "      <td>Kill</td>\n",
       "      <td>...</td>\n",
       "      <td>19.0</td>\n",
       "      <td>36.0</td>\n",
       "      <td>NaN</td>\n",
       "      <td>70000.0</td>\n",
       "      <td>1000.0</td>\n",
       "      <td>71000.0</td>\n",
       "      <td>NaN</td>\n",
       "      <td>NaN</td>\n",
       "      <td>NaN</td>\n",
       "      <td>67.355759</td>\n",
       "    </tr>\n",
       "  </tbody>\n",
       "</table>\n",
       "<p>10 rows × 43 columns</p>\n",
       "</div>"
      ],
      "text/plain": [
       "          Dis No  Year   Seq Disaster Group Disaster Subgroup Disaster Type  \\\n",
       "0  2000-0372-CHN  2000   372        Natural      Hydrological         Flood   \n",
       "1  2000-9186-AFG  2000  9186        Natural    Climatological       Drought   \n",
       "2  2000-0373-BGD  2000   373        Natural      Hydrological         Flood   \n",
       "3  2000-0484-BTN  2000   484        Natural      Hydrological         Flood   \n",
       "4  2000-0677-CHN  2000   677        Natural      Hydrological         Flood   \n",
       "5  2000-0920-CHN  2000   920        Natural      Hydrological         Flood   \n",
       "6  2000-0472-CHN  2000   472        Natural      Hydrological         Flood   \n",
       "7  2000-9495-ARM  2000  9495        Natural    Climatological       Drought   \n",
       "8  2000-0097-AUS  2000    97        Natural    Meteorological         Storm   \n",
       "9  2000-0283-BGD  2000   283        Natural    Meteorological         Storm   \n",
       "\n",
       "   Disaster Subtype Disaster Subsubtype Event Name Entry Criteria  ...  \\\n",
       "0    Riverine flood                 NaN        NaN           Kill  ...   \n",
       "1           Drought                 NaN        NaN       Affected  ...   \n",
       "2       Flash flood                 NaN        NaN         Affect  ...   \n",
       "3    Riverine flood                 NaN        NaN           Kill  ...   \n",
       "4       Flash flood                 NaN        NaN         Affect  ...   \n",
       "5    Riverine flood                 NaN        NaN           Kill  ...   \n",
       "6               NaN                 NaN        NaN           Kill  ...   \n",
       "7           Drought                 NaN        NaN       Affected  ...   \n",
       "8  Tropical cyclone                 NaN      Steve     Declar/Int  ...   \n",
       "9               NaN                 NaN        NaN           Kill  ...   \n",
       "\n",
       "  End Day Total Deaths No Injured No Affected No Homeless Total Affected  \\\n",
       "0    30.0         43.0       10.0         NaN     31000.0        31010.0   \n",
       "1     NaN         37.0        NaN   2580000.0         NaN      2580000.0   \n",
       "2    24.0         11.0       50.0    200000.0         NaN       200050.0   \n",
       "3    30.0        200.0        NaN         NaN      1000.0         1000.0   \n",
       "4    18.0         10.0        NaN    200000.0         NaN       200000.0   \n",
       "5     5.0         26.0        NaN         NaN      4500.0         4500.0   \n",
       "6    14.0        203.0      214.0         NaN     18000.0        18214.0   \n",
       "7     NaN          NaN        NaN    297000.0         NaN       297000.0   \n",
       "8    13.0          1.0        NaN       200.0         NaN          200.0   \n",
       "9    19.0         36.0        NaN     70000.0      1000.0        71000.0   \n",
       "\n",
       "  Reconstruction Costs ('000 US$) Insured Damages ('000 US$)  \\\n",
       "0                             NaN                        NaN   \n",
       "1                             NaN                        NaN   \n",
       "2                             NaN                        NaN   \n",
       "3                             NaN                        NaN   \n",
       "4                             NaN                        NaN   \n",
       "5                             NaN                        NaN   \n",
       "6                             NaN                        NaN   \n",
       "7                             NaN                        NaN   \n",
       "8                             NaN                    10000.0   \n",
       "9                             NaN                        NaN   \n",
       "\n",
       "  Total Damages ('000 US$)        CPI  \n",
       "0                  19000.0  67.355759  \n",
       "1                     50.0  67.355759  \n",
       "2                      NaN  67.355759  \n",
       "3                      NaN  67.355759  \n",
       "4                  25366.0  67.355759  \n",
       "5                   5000.0  67.355759  \n",
       "6                 172000.0  67.355759  \n",
       "7                 100000.0  67.355759  \n",
       "8                  90000.0  67.355759  \n",
       "9                      NaN  67.355759  \n",
       "\n",
       "[10 rows x 43 columns]"
      ]
     },
     "execution_count": 3,
     "metadata": {},
     "output_type": "execute_result"
    }
   ],
   "source": [
    "disaster_df = pd.read_csv('disaster.csv', engine='python')\n",
    "disaster_df.head(10)"
   ]
  },
  {
   "cell_type": "markdown",
   "metadata": {},
   "source": [
    "### Tổng quát về data"
   ]
  },
  {
   "cell_type": "code",
   "execution_count": 8,
   "metadata": {},
   "outputs": [
    {
     "name": "stdout",
     "output_type": "stream",
     "text": [
      "Shape: (3261, 43)\n",
      "<class 'pandas.core.frame.DataFrame'>\n",
      "RangeIndex: 3261 entries, 0 to 3260\n",
      "Data columns (total 43 columns):\n",
      " #   Column                           Non-Null Count  Dtype  \n",
      "---  ------                           --------------  -----  \n",
      " 0   Dis No                           3261 non-null   object \n",
      " 1   Year                             3261 non-null   int64  \n",
      " 2   Seq                              3261 non-null   int64  \n",
      " 3   Disaster Group                   3261 non-null   object \n",
      " 4   Disaster Subgroup                3261 non-null   object \n",
      " 5   Disaster Type                    3261 non-null   object \n",
      " 6   Disaster Subtype                 2831 non-null   object \n",
      " 7   Disaster Subsubtype              237 non-null    object \n",
      " 8   Event Name                       609 non-null    object \n",
      " 9   Entry Criteria                   3260 non-null   object \n",
      " 10  Country                          3261 non-null   object \n",
      " 11  ISO                              3261 non-null   object \n",
      " 12  Region                           3261 non-null   object \n",
      " 13  Continent                        3261 non-null   object \n",
      " 14  Location                         3226 non-null   object \n",
      " 15  Origin                           1302 non-null   object \n",
      " 16  Associated Dis                   1109 non-null   object \n",
      " 17  Associated Dis2                  268 non-null    object \n",
      " 18  OFDA Response                    185 non-null    object \n",
      " 19  Appeal                           44 non-null     object \n",
      " 20  Declaration                      124 non-null    object \n",
      " 21  Aid Contribution                 180 non-null    float64\n",
      " 22  Dis Mag Value                    1450 non-null   float64\n",
      " 23  Dis Mag Scale                    2972 non-null   object \n",
      " 24  Latitude                         900 non-null    float64\n",
      " 25  Longitude                        902 non-null    float64\n",
      " 26  Local Time                       242 non-null    object \n",
      " 27  River Basin                      381 non-null    object \n",
      " 28  Start Year                       3261 non-null   int64  \n",
      " 29  Start Month                      3258 non-null   float64\n",
      " 30  Start Day                        3022 non-null   float64\n",
      " 31  End Year                         3261 non-null   int64  \n",
      " 32  End Month                        3226 non-null   float64\n",
      " 33  End Day                          3007 non-null   float64\n",
      " 34  Total Deaths                     2540 non-null   float64\n",
      " 35  No Injured                       1187 non-null   float64\n",
      " 36  No Affected                      2142 non-null   float64\n",
      " 37  No Homeless                      508 non-null    float64\n",
      " 38  Total Affected                   2718 non-null   float64\n",
      " 39  Reconstruction Costs ('000 US$)  3 non-null      float64\n",
      " 40  Insured Damages ('000 US$)       196 non-null    float64\n",
      " 41  Total Damages ('000 US$)         1363 non-null   float64\n",
      " 42  CPI                              3194 non-null   float64\n",
      "dtypes: float64(17), int64(4), object(22)\n",
      "memory usage: 1.1+ MB\n"
     ]
    }
   ],
   "source": [
    "print('Shape:', disaster_df.shape)\n",
    "disaster_df.info()"
   ]
  },
  {
   "cell_type": "markdown",
   "metadata": {},
   "source": [
    "Nhìn sơ qua df, ta thấy được df này có 3261 dòng, 43 cột tương ứng với 3261 disaster được ghi lại.\n",
    "Một số cột quan trọng như:\n",
    "- Disaster Subgroup: Tên nhóm.\n",
    "- Disaster Type: Tên loại.\n",
    "- Country: Nước xảy ra thảm họa.\n",
    "- Region: Vùng miền nước đó thuộc về.\n",
    "- Location: Địa điểm xảy ra trong nước.\n",
    "- Start year, start month: thời gian xảy ra.\n",
    "- Total Deaths: tổng số người chết hoặc mất tích.\n",
    "- Total Damages: Tổng mức thiệt hại (đơn vị nghìn USD)."
   ]
  },
  {
   "cell_type": "markdown",
   "metadata": {},
   "source": [
    "### Tổng số disaster theo từng năm"
   ]
  },
  {
   "cell_type": "code",
   "execution_count": 9,
   "metadata": {},
   "outputs": [
    {
     "name": "stdout",
     "output_type": "stream",
     "text": [
      "Year\n",
      "2000    163\n",
      "2001    164\n",
      "2002    162\n",
      "2003    154\n",
      "2004    162\n",
      "2005    182\n",
      "2006    190\n",
      "2007    155\n",
      "2008    150\n",
      "2009    146\n",
      "2010    145\n",
      "2011    149\n",
      "2012    147\n",
      "2013    162\n",
      "2014    151\n",
      "2015    191\n",
      "2016    159\n",
      "2017    152\n",
      "2018    146\n",
      "2019    164\n",
      "2020     67\n",
      "Name: Year, dtype: int64\n"
     ]
    }
   ],
   "source": [
    "disaster_each_year = disaster_df['Year'].groupby(disaster_df['Year']).agg('count')\n",
    "print(disaster_each_year)"
   ]
  },
  {
   "cell_type": "markdown",
   "metadata": {},
   "source": [
    "Từ Series disaster_each_year ở trên, ta vẽ một line plot để xem số lượng disater từng năm."
   ]
  },
  {
   "cell_type": "code",
   "execution_count": 16,
   "metadata": {
    "scrolled": true
   },
   "outputs": [
    {
     "data": {
      "image/png": "[encoded data removed]",
      "text/plain": [
       "<Figure size 432x288 with 1 Axes>"
      ]
     },
     "metadata": {
      "needs_background": "light"
     },
     "output_type": "display_data"
    }
   ],
   "source": [
    "plt.plot(disaster_each_year,'o-')\n",
    "plt.locator_params(integer=True)\n",
    "plt.ylim((0, 200))\n",
    "plt.show()"
   ]
  },
  {
   "cell_type": "markdown",
   "metadata": {},
   "source": [
    "Ta thấy số lượng disaster ở năm 2020 thấp hơn hẳn so với trung bình các năm còn lại. Hãy xem dữ liệu của ta được record đến thời gian nào."
   ]
  },
  {
   "cell_type": "code",
   "execution_count": 17,
   "metadata": {},
   "outputs": [
    {
     "name": "stdout",
     "output_type": "stream",
     "text": [
      "      Start Month  Start Day\n",
      "3259          7.0       22.0\n"
     ]
    }
   ],
   "source": [
    "temp_df = disaster_df[['Start Month', 'Start Day']][disaster_df['Year'] == 2020]\n",
    "latest_month = temp_df[temp_df['Start Month'] == temp_df['Start Month'].max()]\n",
    "latest_record = latest_month[latest_month['Start Day'] == latest_month['Start Day'].max()]\n",
    "\n",
    "print(latest_record)"
   ]
  },
  {
   "cell_type": "markdown",
   "metadata": {},
   "source": [
    "Record mới nhất là vào 22/7, mới chỉ nửa năm nên số lượng thấp hơn nhiều so với các năm khác."
   ]
  },
  {
   "cell_type": "markdown",
   "metadata": {},
   "source": [
    "### Tỉ lệ xuất hiện của các loại thảm họa"
   ]
  },
  {
   "cell_type": "code",
   "execution_count": 19,
   "metadata": {},
   "outputs": [
    {
     "data": {
      "image/png": "[encoded data removed]",
      "text/plain": [
       "<Figure size 432x288 with 1 Axes>"
      ]
     },
     "metadata": {
      "needs_background": "light"
     },
     "output_type": "display_data"
    }
   ],
   "source": [
    "disaster_group_ratio = disaster_df['Disaster Subgroup'].value_counts()\n",
    "disaster_ratio.plot.bar(rot=0)\n",
    "plt.show()"
   ]
  },
  {
   "cell_type": "markdown",
   "metadata": {},
   "source": [
    "Bar chart ở phía trên thể hiện cho tỉ lệ từng nhóm thảm họa. Ta sẽ vẽ thêm một bar chart để xem tỉ lệ của từng loại cụ thể."
   ]
  },
  {
   "cell_type": "code",
   "execution_count": 20,
   "metadata": {},
   "outputs": [
    {
     "data": {
      "image/png": "[encoded data removed]",
      "text/plain": [
       "<Figure size 432x288 with 1 Axes>"
      ]
     },
     "metadata": {
      "needs_background": "light"
     },
     "output_type": "display_data"
    }
   ],
   "source": [
    "disaster_type_ratio = disaster_df['Disaster Subtype'].value_counts()\n",
    "disaster_type_ratio.plot.bar(rot=270)\n",
    "plt.tight_layout()\n",
    "plt.show()"
   ]
  },
  {
   "cell_type": "markdown",
   "metadata": {},
   "source": [
    "Vì từng nhóm thảm họa gồm có nhiều loại thảm họa khác nhau, nhưng 2 bar chart không cho ta được cái nhìn chung. Ta cần tìm cách gom nhóm 2 bar chart này lại."
   ]
  }
 ],
 "metadata": {
  "kernelspec": {
   "display_name": "Python 3",
   "language": "python",
   "name": "python3"
  },
  "language_info": {
   "codemirror_mode": {
    "name": "ipython",
    "version": 3
   },
   "file_extension": ".py",
   "mimetype": "text/x-python",
   "name": "python",
   "nbconvert_exporter": "python",
   "pygments_lexer": "ipython3",
   "version": "3.8.3"
  }
 },
 "nbformat": 4,
 "nbformat_minor": 4
}

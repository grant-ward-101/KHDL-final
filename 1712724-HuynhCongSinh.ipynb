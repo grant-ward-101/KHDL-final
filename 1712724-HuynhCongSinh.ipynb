{
 "cells": [
  {
   "cell_type": "markdown",
   "metadata": {},
   "source": [
    "# ĐỒ ÁN CUỐI KỲ\n",
    "\n",
    "Họ tên: Huỳnh Công Sinh\n",
    "\n",
    "MSSV: 1712724"
   ]
  },
  {
   "cell_type": "markdown",
   "metadata": {},
   "source": [
    "**Giới thiệu**\n",
    "\n",
    "Em thấy rằng trong những năm gần đây, những thảm họa thiên nhiên xuất hiện ngày càng nhiều. Không những thế, mức độ nghiêm trọng của nó cũng có dấu hiệu tăng lên. Do đó, ở trong đồ án cuối kỳ môn Lập trình cho Khoa học dữ liệu, em sẽ nghiên cứu về vấn đề này."
   ]
  },
  {
   "cell_type": "markdown",
   "metadata": {},
   "source": [
    "## Import"
   ]
  },
  {
   "cell_type": "code",
   "execution_count": 1,
   "metadata": {},
   "outputs": [],
   "source": [
    "%matplotlib inline\n",
    "import matplotlib.pyplot as plt\n",
    "import pandas as pd\n",
    "import numpy as np\n",
    "from IPython.display import Image, display"
   ]
  },
  {
   "cell_type": "markdown",
   "metadata": {},
   "source": [
    "## Lấy dữ liệu"
   ]
  },
  {
   "cell_type": "markdown",
   "metadata": {},
   "source": [
    "- Tài liệu nghiên cứu của em là file 'Disaster.csv'. File này tổng hợp các thảm họa thiên nhiên về địa lý, khí tượng, thủy văn, khí hậu.\n",
    "- Nguồn được lấy từ trang **https://public.emdat.be/**. Quyền truy cập vào dữ liệu được UCL cung cấp miên phí. Chi tiết xem tại [đây](https://www.emdat.be/frequently-asked-questions#:~:text=What%20are%20the%20conditions%20of,of%20charge%20by%20the%20UCL.).\n",
    "- Trong file này, địa điểm thu thập dữ liệu bao gồm có **Châu Á** và **Châu Đại Dương** từ năm **2000 đến nay**."
   ]
  },
  {
   "cell_type": "markdown",
   "metadata": {},
   "source": [
    "---"
   ]
  },
  {
   "cell_type": "markdown",
   "metadata": {},
   "source": [
    "## Khám phá dữ liệu"
   ]
  },
  {
   "cell_type": "markdown",
   "metadata": {},
   "source": [
    "### Đọc dữ liệu vào dataframe"
   ]
  },
  {
   "cell_type": "code",
   "execution_count": 2,
   "metadata": {},
   "outputs": [
    {
     "data": {
      "text/html": [
       "<div>\n",
       "<style scoped>\n",
       "    .dataframe tbody tr th:only-of-type {\n",
       "        vertical-align: middle;\n",
       "    }\n",
       "\n",
       "    .dataframe tbody tr th {\n",
       "        vertical-align: top;\n",
       "    }\n",
       "\n",
       "    .dataframe thead th {\n",
       "        text-align: right;\n",
       "    }\n",
       "</style>\n",
       "<table border=\"1\" class=\"dataframe\">\n",
       "  <thead>\n",
       "    <tr style=\"text-align: right;\">\n",
       "      <th></th>\n",
       "      <th>Dis No</th>\n",
       "      <th>Year</th>\n",
       "      <th>Seq</th>\n",
       "      <th>Disaster Group</th>\n",
       "      <th>Disaster Subgroup</th>\n",
       "      <th>Disaster Type</th>\n",
       "      <th>Disaster Subtype</th>\n",
       "      <th>Disaster Subsubtype</th>\n",
       "      <th>Event Name</th>\n",
       "      <th>Entry Criteria</th>\n",
       "      <th>...</th>\n",
       "      <th>End Day</th>\n",
       "      <th>Total Deaths</th>\n",
       "      <th>No Injured</th>\n",
       "      <th>No Affected</th>\n",
       "      <th>No Homeless</th>\n",
       "      <th>Total Affected</th>\n",
       "      <th>Reconstruction Costs ('000 US$)</th>\n",
       "      <th>Insured Damages ('000 US$)</th>\n",
       "      <th>Total Damages ('000 US$)</th>\n",
       "      <th>CPI</th>\n",
       "    </tr>\n",
       "  </thead>\n",
       "  <tbody>\n",
       "    <tr>\n",
       "      <th>0</th>\n",
       "      <td>2000-0372-CHN</td>\n",
       "      <td>2000</td>\n",
       "      <td>372</td>\n",
       "      <td>Natural</td>\n",
       "      <td>Hydrological</td>\n",
       "      <td>Flood</td>\n",
       "      <td>Riverine flood</td>\n",
       "      <td>NaN</td>\n",
       "      <td>NaN</td>\n",
       "      <td>Kill</td>\n",
       "      <td>...</td>\n",
       "      <td>30.0</td>\n",
       "      <td>43.0</td>\n",
       "      <td>10.0</td>\n",
       "      <td>NaN</td>\n",
       "      <td>31000.0</td>\n",
       "      <td>31010.0</td>\n",
       "      <td>NaN</td>\n",
       "      <td>NaN</td>\n",
       "      <td>19000.0</td>\n",
       "      <td>67.355759</td>\n",
       "    </tr>\n",
       "    <tr>\n",
       "      <th>1</th>\n",
       "      <td>2000-9186-AFG</td>\n",
       "      <td>2000</td>\n",
       "      <td>9186</td>\n",
       "      <td>Natural</td>\n",
       "      <td>Climatological</td>\n",
       "      <td>Drought</td>\n",
       "      <td>Drought</td>\n",
       "      <td>NaN</td>\n",
       "      <td>NaN</td>\n",
       "      <td>Affected</td>\n",
       "      <td>...</td>\n",
       "      <td>NaN</td>\n",
       "      <td>37.0</td>\n",
       "      <td>NaN</td>\n",
       "      <td>2580000.0</td>\n",
       "      <td>NaN</td>\n",
       "      <td>2580000.0</td>\n",
       "      <td>NaN</td>\n",
       "      <td>NaN</td>\n",
       "      <td>50.0</td>\n",
       "      <td>67.355759</td>\n",
       "    </tr>\n",
       "    <tr>\n",
       "      <th>2</th>\n",
       "      <td>2000-0373-BGD</td>\n",
       "      <td>2000</td>\n",
       "      <td>373</td>\n",
       "      <td>Natural</td>\n",
       "      <td>Hydrological</td>\n",
       "      <td>Flood</td>\n",
       "      <td>Flash flood</td>\n",
       "      <td>NaN</td>\n",
       "      <td>NaN</td>\n",
       "      <td>Affect</td>\n",
       "      <td>...</td>\n",
       "      <td>24.0</td>\n",
       "      <td>11.0</td>\n",
       "      <td>50.0</td>\n",
       "      <td>200000.0</td>\n",
       "      <td>NaN</td>\n",
       "      <td>200050.0</td>\n",
       "      <td>NaN</td>\n",
       "      <td>NaN</td>\n",
       "      <td>NaN</td>\n",
       "      <td>67.355759</td>\n",
       "    </tr>\n",
       "    <tr>\n",
       "      <th>3</th>\n",
       "      <td>2000-0484-BTN</td>\n",
       "      <td>2000</td>\n",
       "      <td>484</td>\n",
       "      <td>Natural</td>\n",
       "      <td>Hydrological</td>\n",
       "      <td>Flood</td>\n",
       "      <td>Riverine flood</td>\n",
       "      <td>NaN</td>\n",
       "      <td>NaN</td>\n",
       "      <td>Kill</td>\n",
       "      <td>...</td>\n",
       "      <td>30.0</td>\n",
       "      <td>200.0</td>\n",
       "      <td>NaN</td>\n",
       "      <td>NaN</td>\n",
       "      <td>1000.0</td>\n",
       "      <td>1000.0</td>\n",
       "      <td>NaN</td>\n",
       "      <td>NaN</td>\n",
       "      <td>NaN</td>\n",
       "      <td>67.355759</td>\n",
       "    </tr>\n",
       "    <tr>\n",
       "      <th>4</th>\n",
       "      <td>2000-0677-CHN</td>\n",
       "      <td>2000</td>\n",
       "      <td>677</td>\n",
       "      <td>Natural</td>\n",
       "      <td>Hydrological</td>\n",
       "      <td>Flood</td>\n",
       "      <td>Flash flood</td>\n",
       "      <td>NaN</td>\n",
       "      <td>NaN</td>\n",
       "      <td>Affect</td>\n",
       "      <td>...</td>\n",
       "      <td>18.0</td>\n",
       "      <td>10.0</td>\n",
       "      <td>NaN</td>\n",
       "      <td>200000.0</td>\n",
       "      <td>NaN</td>\n",
       "      <td>200000.0</td>\n",
       "      <td>NaN</td>\n",
       "      <td>NaN</td>\n",
       "      <td>25366.0</td>\n",
       "      <td>67.355759</td>\n",
       "    </tr>\n",
       "    <tr>\n",
       "      <th>5</th>\n",
       "      <td>2000-0920-CHN</td>\n",
       "      <td>2000</td>\n",
       "      <td>920</td>\n",
       "      <td>Natural</td>\n",
       "      <td>Hydrological</td>\n",
       "      <td>Flood</td>\n",
       "      <td>Riverine flood</td>\n",
       "      <td>NaN</td>\n",
       "      <td>NaN</td>\n",
       "      <td>Kill</td>\n",
       "      <td>...</td>\n",
       "      <td>5.0</td>\n",
       "      <td>26.0</td>\n",
       "      <td>NaN</td>\n",
       "      <td>NaN</td>\n",
       "      <td>4500.0</td>\n",
       "      <td>4500.0</td>\n",
       "      <td>NaN</td>\n",
       "      <td>NaN</td>\n",
       "      <td>5000.0</td>\n",
       "      <td>67.355759</td>\n",
       "    </tr>\n",
       "    <tr>\n",
       "      <th>6</th>\n",
       "      <td>2000-0472-CHN</td>\n",
       "      <td>2000</td>\n",
       "      <td>472</td>\n",
       "      <td>Natural</td>\n",
       "      <td>Hydrological</td>\n",
       "      <td>Flood</td>\n",
       "      <td>NaN</td>\n",
       "      <td>NaN</td>\n",
       "      <td>NaN</td>\n",
       "      <td>Kill</td>\n",
       "      <td>...</td>\n",
       "      <td>14.0</td>\n",
       "      <td>203.0</td>\n",
       "      <td>214.0</td>\n",
       "      <td>NaN</td>\n",
       "      <td>18000.0</td>\n",
       "      <td>18214.0</td>\n",
       "      <td>NaN</td>\n",
       "      <td>NaN</td>\n",
       "      <td>172000.0</td>\n",
       "      <td>67.355759</td>\n",
       "    </tr>\n",
       "    <tr>\n",
       "      <th>7</th>\n",
       "      <td>2000-9495-ARM</td>\n",
       "      <td>2000</td>\n",
       "      <td>9495</td>\n",
       "      <td>Natural</td>\n",
       "      <td>Climatological</td>\n",
       "      <td>Drought</td>\n",
       "      <td>Drought</td>\n",
       "      <td>NaN</td>\n",
       "      <td>NaN</td>\n",
       "      <td>Affected</td>\n",
       "      <td>...</td>\n",
       "      <td>NaN</td>\n",
       "      <td>NaN</td>\n",
       "      <td>NaN</td>\n",
       "      <td>297000.0</td>\n",
       "      <td>NaN</td>\n",
       "      <td>297000.0</td>\n",
       "      <td>NaN</td>\n",
       "      <td>NaN</td>\n",
       "      <td>100000.0</td>\n",
       "      <td>67.355759</td>\n",
       "    </tr>\n",
       "    <tr>\n",
       "      <th>8</th>\n",
       "      <td>2000-0097-AUS</td>\n",
       "      <td>2000</td>\n",
       "      <td>97</td>\n",
       "      <td>Natural</td>\n",
       "      <td>Meteorological</td>\n",
       "      <td>Storm</td>\n",
       "      <td>Tropical cyclone</td>\n",
       "      <td>NaN</td>\n",
       "      <td>Steve</td>\n",
       "      <td>Declar/Int</td>\n",
       "      <td>...</td>\n",
       "      <td>13.0</td>\n",
       "      <td>1.0</td>\n",
       "      <td>NaN</td>\n",
       "      <td>200.0</td>\n",
       "      <td>NaN</td>\n",
       "      <td>200.0</td>\n",
       "      <td>NaN</td>\n",
       "      <td>10000.0</td>\n",
       "      <td>90000.0</td>\n",
       "      <td>67.355759</td>\n",
       "    </tr>\n",
       "    <tr>\n",
       "      <th>9</th>\n",
       "      <td>2000-0283-BGD</td>\n",
       "      <td>2000</td>\n",
       "      <td>283</td>\n",
       "      <td>Natural</td>\n",
       "      <td>Meteorological</td>\n",
       "      <td>Storm</td>\n",
       "      <td>NaN</td>\n",
       "      <td>NaN</td>\n",
       "      <td>NaN</td>\n",
       "      <td>Kill</td>\n",
       "      <td>...</td>\n",
       "      <td>19.0</td>\n",
       "      <td>36.0</td>\n",
       "      <td>NaN</td>\n",
       "      <td>70000.0</td>\n",
       "      <td>1000.0</td>\n",
       "      <td>71000.0</td>\n",
       "      <td>NaN</td>\n",
       "      <td>NaN</td>\n",
       "      <td>NaN</td>\n",
       "      <td>67.355759</td>\n",
       "    </tr>\n",
       "  </tbody>\n",
       "</table>\n",
       "<p>10 rows × 43 columns</p>\n",
       "</div>"
      ],
      "text/plain": [
       "          Dis No  Year   Seq Disaster Group Disaster Subgroup Disaster Type  \\\n",
       "0  2000-0372-CHN  2000   372        Natural      Hydrological         Flood   \n",
       "1  2000-9186-AFG  2000  9186        Natural    Climatological       Drought   \n",
       "2  2000-0373-BGD  2000   373        Natural      Hydrological         Flood   \n",
       "3  2000-0484-BTN  2000   484        Natural      Hydrological         Flood   \n",
       "4  2000-0677-CHN  2000   677        Natural      Hydrological         Flood   \n",
       "5  2000-0920-CHN  2000   920        Natural      Hydrological         Flood   \n",
       "6  2000-0472-CHN  2000   472        Natural      Hydrological         Flood   \n",
       "7  2000-9495-ARM  2000  9495        Natural    Climatological       Drought   \n",
       "8  2000-0097-AUS  2000    97        Natural    Meteorological         Storm   \n",
       "9  2000-0283-BGD  2000   283        Natural    Meteorological         Storm   \n",
       "\n",
       "   Disaster Subtype Disaster Subsubtype Event Name Entry Criteria  ...  \\\n",
       "0    Riverine flood                 NaN        NaN           Kill  ...   \n",
       "1           Drought                 NaN        NaN       Affected  ...   \n",
       "2       Flash flood                 NaN        NaN         Affect  ...   \n",
       "3    Riverine flood                 NaN        NaN           Kill  ...   \n",
       "4       Flash flood                 NaN        NaN         Affect  ...   \n",
       "5    Riverine flood                 NaN        NaN           Kill  ...   \n",
       "6               NaN                 NaN        NaN           Kill  ...   \n",
       "7           Drought                 NaN        NaN       Affected  ...   \n",
       "8  Tropical cyclone                 NaN      Steve     Declar/Int  ...   \n",
       "9               NaN                 NaN        NaN           Kill  ...   \n",
       "\n",
       "  End Day Total Deaths No Injured No Affected No Homeless Total Affected  \\\n",
       "0    30.0         43.0       10.0         NaN     31000.0        31010.0   \n",
       "1     NaN         37.0        NaN   2580000.0         NaN      2580000.0   \n",
       "2    24.0         11.0       50.0    200000.0         NaN       200050.0   \n",
       "3    30.0        200.0        NaN         NaN      1000.0         1000.0   \n",
       "4    18.0         10.0        NaN    200000.0         NaN       200000.0   \n",
       "5     5.0         26.0        NaN         NaN      4500.0         4500.0   \n",
       "6    14.0        203.0      214.0         NaN     18000.0        18214.0   \n",
       "7     NaN          NaN        NaN    297000.0         NaN       297000.0   \n",
       "8    13.0          1.0        NaN       200.0         NaN          200.0   \n",
       "9    19.0         36.0        NaN     70000.0      1000.0        71000.0   \n",
       "\n",
       "  Reconstruction Costs ('000 US$) Insured Damages ('000 US$)  \\\n",
       "0                             NaN                        NaN   \n",
       "1                             NaN                        NaN   \n",
       "2                             NaN                        NaN   \n",
       "3                             NaN                        NaN   \n",
       "4                             NaN                        NaN   \n",
       "5                             NaN                        NaN   \n",
       "6                             NaN                        NaN   \n",
       "7                             NaN                        NaN   \n",
       "8                             NaN                    10000.0   \n",
       "9                             NaN                        NaN   \n",
       "\n",
       "  Total Damages ('000 US$)        CPI  \n",
       "0                  19000.0  67.355759  \n",
       "1                     50.0  67.355759  \n",
       "2                      NaN  67.355759  \n",
       "3                      NaN  67.355759  \n",
       "4                  25366.0  67.355759  \n",
       "5                   5000.0  67.355759  \n",
       "6                 172000.0  67.355759  \n",
       "7                 100000.0  67.355759  \n",
       "8                  90000.0  67.355759  \n",
       "9                      NaN  67.355759  \n",
       "\n",
       "[10 rows x 43 columns]"
      ]
     },
     "execution_count": 2,
     "metadata": {},
     "output_type": "execute_result"
    }
   ],
   "source": [
    "disaster_df = pd.read_csv('disaster.csv', engine='python')\n",
    "disaster_df.head(10)"
   ]
  },
  {
   "cell_type": "markdown",
   "metadata": {},
   "source": [
    "### Tổng quát về data"
   ]
  },
  {
   "cell_type": "code",
   "execution_count": 3,
   "metadata": {},
   "outputs": [
    {
     "name": "stdout",
     "output_type": "stream",
     "text": [
      "Shape: (3261, 43)\n",
      "<class 'pandas.core.frame.DataFrame'>\n",
      "RangeIndex: 3261 entries, 0 to 3260\n",
      "Data columns (total 43 columns):\n",
      " #   Column                           Non-Null Count  Dtype  \n",
      "---  ------                           --------------  -----  \n",
      " 0   Dis No                           3261 non-null   object \n",
      " 1   Year                             3261 non-null   int64  \n",
      " 2   Seq                              3261 non-null   int64  \n",
      " 3   Disaster Group                   3261 non-null   object \n",
      " 4   Disaster Subgroup                3261 non-null   object \n",
      " 5   Disaster Type                    3261 non-null   object \n",
      " 6   Disaster Subtype                 2831 non-null   object \n",
      " 7   Disaster Subsubtype              237 non-null    object \n",
      " 8   Event Name                       609 non-null    object \n",
      " 9   Entry Criteria                   3260 non-null   object \n",
      " 10  Country                          3261 non-null   object \n",
      " 11  ISO                              3261 non-null   object \n",
      " 12  Region                           3261 non-null   object \n",
      " 13  Continent                        3261 non-null   object \n",
      " 14  Location                         3226 non-null   object \n",
      " 15  Origin                           1302 non-null   object \n",
      " 16  Associated Dis                   1109 non-null   object \n",
      " 17  Associated Dis2                  268 non-null    object \n",
      " 18  OFDA Response                    185 non-null    object \n",
      " 19  Appeal                           44 non-null     object \n",
      " 20  Declaration                      124 non-null    object \n",
      " 21  Aid Contribution                 180 non-null    float64\n",
      " 22  Dis Mag Value                    1450 non-null   float64\n",
      " 23  Dis Mag Scale                    2972 non-null   object \n",
      " 24  Latitude                         900 non-null    float64\n",
      " 25  Longitude                        902 non-null    float64\n",
      " 26  Local Time                       242 non-null    object \n",
      " 27  River Basin                      381 non-null    object \n",
      " 28  Start Year                       3261 non-null   int64  \n",
      " 29  Start Month                      3258 non-null   float64\n",
      " 30  Start Day                        3022 non-null   float64\n",
      " 31  End Year                         3261 non-null   int64  \n",
      " 32  End Month                        3226 non-null   float64\n",
      " 33  End Day                          3007 non-null   float64\n",
      " 34  Total Deaths                     2540 non-null   float64\n",
      " 35  No Injured                       1187 non-null   float64\n",
      " 36  No Affected                      2142 non-null   float64\n",
      " 37  No Homeless                      508 non-null    float64\n",
      " 38  Total Affected                   2718 non-null   float64\n",
      " 39  Reconstruction Costs ('000 US$)  3 non-null      float64\n",
      " 40  Insured Damages ('000 US$)       196 non-null    float64\n",
      " 41  Total Damages ('000 US$)         1363 non-null   float64\n",
      " 42  CPI                              3194 non-null   float64\n",
      "dtypes: float64(17), int64(4), object(22)\n",
      "memory usage: 1.1+ MB\n"
     ]
    }
   ],
   "source": [
    "print('Shape:', disaster_df.shape)\n",
    "disaster_df.info()"
   ]
  },
  {
   "cell_type": "markdown",
   "metadata": {},
   "source": [
    "Nhìn sơ qua df, ta thấy được df này có 3261 dòng, 43 cột tương ứng với 3261 disaster được ghi lại.\n",
    "Một số cột quan trọng như:\n",
    "- Disaster Subgroup: Tên nhóm thảm họa.\n",
    "- Disaster Type: Tên loại thảm họa.\n",
    "- Country: Nước xảy ra thảm họa.\n",
    "- Region: Vùng miền nước đó thuộc về.\n",
    "- Location: Địa điểm xảy ra trong nước.\n",
    "- Start year, start month: thời gian xảy ra.\n",
    "- Total Deaths: tổng số người chết hoặc mất tích.\n",
    "- Total Damages: Tổng mức thiệt hại (đơn vị nghìn USD)."
   ]
  },
  {
   "cell_type": "markdown",
   "metadata": {},
   "source": [
    "### Tổng số thảm họa theo từng năm"
   ]
  },
  {
   "cell_type": "code",
   "execution_count": 4,
   "metadata": {},
   "outputs": [
    {
     "data": {
      "text/plain": [
       "Year\n",
       "2000    163\n",
       "2001    164\n",
       "2002    162\n",
       "2003    154\n",
       "2004    162\n",
       "2005    182\n",
       "2006    190\n",
       "2007    155\n",
       "2008    150\n",
       "2009    146\n",
       "2010    145\n",
       "2011    149\n",
       "2012    147\n",
       "2013    162\n",
       "2014    151\n",
       "2015    191\n",
       "2016    159\n",
       "2017    152\n",
       "2018    146\n",
       "2019    164\n",
       "2020     67\n",
       "Name: Year, dtype: int64"
      ]
     },
     "execution_count": 4,
     "metadata": {},
     "output_type": "execute_result"
    }
   ],
   "source": [
    "disaster_each_year = disaster_df.groupby('Year')['Year'].agg('count')\n",
    "disaster_each_year"
   ]
  },
  {
   "cell_type": "markdown",
   "metadata": {},
   "source": [
    "Từ Series disaster_each_year ở trên, ta vẽ một line plot để xem số lượng disater từng năm."
   ]
  },
  {
   "cell_type": "code",
   "execution_count": 5,
   "metadata": {
    "scrolled": true
   },
   "outputs": [
    {
     "data": {
      "image/png": "[encoded data removed]",
      "text/plain": [
       "<Figure size 432x288 with 1 Axes>"
      ]
     },
     "metadata": {
      "needs_background": "light"
     },
     "output_type": "display_data"
    }
   ],
   "source": [
    "plt.plot(disaster_each_year,'o-')\n",
    "plt.locator_params(integer=True)\n",
    "plt.ylim((0, 200))\n",
    "plt.show()"
   ]
  },
  {
   "cell_type": "markdown",
   "metadata": {},
   "source": [
    "Ta thấy số lượng disaster ở năm 2020 thấp hơn hẳn so với trung bình các năm còn lại. Hãy xem dữ liệu của ta được record đến thời gian nào."
   ]
  },
  {
   "cell_type": "code",
   "execution_count": 6,
   "metadata": {},
   "outputs": [
    {
     "name": "stdout",
     "output_type": "stream",
     "text": [
      "      Start Month  Start Day\n",
      "3259          7.0       22.0\n"
     ]
    }
   ],
   "source": [
    "temp_df = disaster_df[['Start Month', 'Start Day']][disaster_df['Year'] == 2020]\n",
    "latest_month = temp_df[temp_df['Start Month'] == temp_df['Start Month'].max()]\n",
    "latest_record = latest_month[latest_month['Start Day'] == latest_month['Start Day'].max()]\n",
    "\n",
    "print(latest_record)"
   ]
  },
  {
   "cell_type": "markdown",
   "metadata": {},
   "source": [
    "Record mới nhất là vào 22/7, mới chỉ nửa năm nên số lượng thấp hơn nhiều so với các năm khác."
   ]
  },
  {
   "cell_type": "markdown",
   "metadata": {},
   "source": [
    "### Tỉ lệ xuất hiện của các loại thảm họa"
   ]
  },
  {
   "cell_type": "code",
   "execution_count": 7,
   "metadata": {},
   "outputs": [
    {
     "data": {
      "image/png": "[encoded data removed]",
      "text/plain": [
       "<Figure size 432x288 with 1 Axes>"
      ]
     },
     "metadata": {
      "needs_background": "light"
     },
     "output_type": "display_data"
    }
   ],
   "source": [
    "disaster_group_ratio = disaster_df['Disaster Subgroup'].value_counts()\n",
    "disaster_group_ratio.plot.bar(rot=0)\n",
    "plt.show()"
   ]
  },
  {
   "cell_type": "markdown",
   "metadata": {},
   "source": [
    "Bar chart ở phía trên thể hiện cho tỉ lệ từng nhóm thảm họa. Ta sẽ vẽ thêm một bar chart để xem tỉ lệ của từng loại cụ thể."
   ]
  },
  {
   "cell_type": "code",
   "execution_count": 8,
   "metadata": {},
   "outputs": [
    {
     "data": {
      "image/png": "[encoded data removed]",
      "text/plain": [
       "<Figure size 720x720 with 1 Axes>"
      ]
     },
     "metadata": {
      "needs_background": "light"
     },
     "output_type": "display_data"
    }
   ],
   "source": [
    "disaster_type_ratio = disaster_df['Disaster Subtype'].value_counts()\n",
    "disaster_type_ratio.plot.barh(figsize=(10, 10), rot=0)\n",
    "plt.tight_layout()\n",
    "plt.show()"
   ]
  },
  {
   "cell_type": "markdown",
   "metadata": {},
   "source": [
    "Vì từng nhóm thảm họa gồm có nhiều loại thảm họa khác nhau, nhưng 2 bar chart không cho ta được cái nhìn chung. Ta cần tìm cách gom nhóm 2 bar chart này lại."
   ]
  },
  {
   "cell_type": "code",
   "execution_count": 9,
   "metadata": {},
   "outputs": [
    {
     "data": {
      "image/png": "[encoded data removed]",
      "text/plain": [
       "<Figure size 504x936 with 1 Axes>"
      ]
     },
     "metadata": {
      "needs_background": "light"
     },
     "output_type": "display_data"
    }
   ],
   "source": [
    "stack_disaster = disaster_df.groupby('Disaster Subgroup')['Disaster Subtype'].value_counts()\n",
    "stack_disaster.unstack().plot.bar(figsize=(7, 13), stacked=True, rot=0)\n",
    "plt.xlabel('')\n",
    "plt.legend(loc='upper left', fontsize='small')\n",
    "plt.show()"
   ]
  },
  {
   "cell_type": "markdown",
   "metadata": {},
   "source": [
    "### Sự ảnh hưởng của thảm họa tự nhiên đối với các nước"
   ]
  },
  {
   "cell_type": "markdown",
   "metadata": {},
   "source": [
    "Ta xem xét số lượng thảm họa xảy ra với các nước trong suốt 20 năm qua."
   ]
  },
  {
   "cell_type": "code",
   "execution_count": 10,
   "metadata": {},
   "outputs": [
    {
     "data": {
      "image/png": "[encoded data removed]",
      "text/plain": [
       "<Figure size 648x720 with 1 Axes>"
      ]
     },
     "metadata": {
      "needs_background": "light"
     },
     "output_type": "display_data"
    }
   ],
   "source": [
    "count_disaster_by_country = disaster_df['Country'].value_counts(ascending=True)\n",
    "count_disaster_by_country.plot.barh(figsize=(9, 10))\n",
    "plt.tight_layout()\n",
    "plt.show()"
   ]
  },
  {
   "cell_type": "markdown",
   "metadata": {},
   "source": [
    "Theo như bar chart, ta thấy 3 nước bị ảnh hưởng nhiều nhất là Trung Quốc, Ấn Độ và Philippines. \n",
    "\n",
    "Trung Quốc và Ấn Độ thì do diện tích của 2 nước này thuộc top lớn nhất Châu Á mà lại gần biển nên việc có nhiều thảm họa tự nhiên là điều hiển nhiên. Còn Philippines, quốc gia nằm giữa biển nên việc hứng chịu bão nhiệt đới là không thể tránh khỏi."
   ]
  },
  {
   "cell_type": "code",
   "execution_count": 11,
   "metadata": {},
   "outputs": [
    {
     "data": {
      "text/plain": [
       "Tropical cyclone    151\n",
       "Riverine flood       47\n",
       "Flash flood          29\n",
       "Ground movement      18\n",
       "Landslide            12\n",
       "Ash fall             10\n",
       "Coastal flood         6\n",
       "Drought               4\n",
       "Convective storm      2\n",
       "Avalanche             1\n",
       "Lava flow             1\n",
       "Subsidence            1\n",
       "Name: Disaster Subtype, dtype: int64"
      ]
     },
     "execution_count": 11,
     "metadata": {},
     "output_type": "execute_result"
    }
   ],
   "source": [
    "disaster_in_phi = disaster_df[disaster_df['Country'] == 'Philippines (the)']['Disaster Subtype'].value_counts()\n",
    "disaster_in_phi"
   ]
  },
  {
   "cell_type": "markdown",
   "metadata": {},
   "source": [
    "## Đưa ra các câu hỏi cần trả lời"
   ]
  },
  {
   "cell_type": "markdown",
   "metadata": {},
   "source": [
    "Sau khi khám phá xong dữ liệu, ta thấy có một vài câu hỏi đáng quan tâm:\n",
    "1. Top 5 loại thảm họa xuất hiện nhiều nhất và top 3 nước xảy ra loại thảm họa đó nhiều nhất. \n",
    "2. Thiệt hại của các thảm họa thay đổi thế nào qua các năm? Những nước bị thiệt hại vì thảm họa cao nhất trong thập kỷ vừa qua? Loại thảm họa nào gây thiệt hại cao nhất? Thiệt hại ở đây được tính bằng giá trị ở cột Total Damages.\n",
    "3. Tình hình thảm họa tại Việt Nam trong 21 năm đầu thế kỷ mới."
   ]
  },
  {
   "cell_type": "markdown",
   "metadata": {},
   "source": [
    "## Trả lời các câu hỏi"
   ]
  },
  {
   "cell_type": "markdown",
   "metadata": {},
   "source": [
    "### Câu 1"
   ]
  },
  {
   "cell_type": "code",
   "execution_count": 12,
   "metadata": {},
   "outputs": [
    {
     "data": {
      "text/plain": [
       "['Riverine flood',\n",
       " 'Tropical cyclone',\n",
       " 'Ground movement',\n",
       " 'Flash flood',\n",
       " 'Convective storm']"
      ]
     },
     "execution_count": 12,
     "metadata": {},
     "output_type": "execute_result"
    }
   ],
   "source": [
    "top_5_disaster = disaster_df['Disaster Subtype'].value_counts().nlargest(5).index.tolist()\n",
    "top_5_disaster"
   ]
  },
  {
   "cell_type": "code",
   "execution_count": 13,
   "metadata": {},
   "outputs": [
    {
     "data": {
      "text/html": [
       "<div>\n",
       "<style scoped>\n",
       "    .dataframe tbody tr th:only-of-type {\n",
       "        vertical-align: middle;\n",
       "    }\n",
       "\n",
       "    .dataframe tbody tr th {\n",
       "        vertical-align: top;\n",
       "    }\n",
       "\n",
       "    .dataframe thead th {\n",
       "        text-align: right;\n",
       "    }\n",
       "</style>\n",
       "<table border=\"1\" class=\"dataframe\">\n",
       "  <thead>\n",
       "    <tr style=\"text-align: right;\">\n",
       "      <th></th>\n",
       "      <th>Riverine flood</th>\n",
       "      <th>Tropical cyclone</th>\n",
       "      <th>Ground movement</th>\n",
       "      <th>Flash flood</th>\n",
       "      <th>Convective storm</th>\n",
       "    </tr>\n",
       "  </thead>\n",
       "  <tbody>\n",
       "    <tr>\n",
       "      <th>Countries</th>\n",
       "      <td>[China, India, Indonesia]</td>\n",
       "      <td>[Philippines (the), China, Japan]</td>\n",
       "      <td>[China, Indonesia, Iran (Islamic Republic of)]</td>\n",
       "      <td>[Indonesia, Philippines (the), India]</td>\n",
       "      <td>[China, India, Bangladesh]</td>\n",
       "    </tr>\n",
       "  </tbody>\n",
       "</table>\n",
       "</div>"
      ],
      "text/plain": [
       "                      Riverine flood                   Tropical cyclone  \\\n",
       "Countries  [China, India, Indonesia]  [Philippines (the), China, Japan]   \n",
       "\n",
       "                                          Ground movement  \\\n",
       "Countries  [China, Indonesia, Iran (Islamic Republic of)]   \n",
       "\n",
       "                                     Flash flood            Convective storm  \n",
       "Countries  [Indonesia, Philippines (the), India]  [China, India, Bangladesh]  "
      ]
     },
     "execution_count": 13,
     "metadata": {},
     "output_type": "execute_result"
    }
   ],
   "source": [
    "country_list = []\n",
    "for dis in top_5_disaster:\n",
    "    top_3 = disaster_df[disaster_df['Disaster Subtype'] == dis]['Country'].value_counts().head(3)\n",
    "    country_list.append(top_3.index.tolist())\n",
    "\n",
    "top_3_country = pd.DataFrame({'Countries': country_list}, index=top_5_disaster).T\n",
    "top_3_country"
   ]
  },
  {
   "cell_type": "markdown",
   "metadata": {},
   "source": [
    "Qua dataframe ở trên, ta thấy được những loại thảm họa phổ biến thường xảy ra ở những nước nào.\n",
    "- Về Trung Quốc, vì diện tích của nước này rất lớn nên có nhiều kiểu khí hậu, địa hình khác nhau. Việc những thảm họa phổ biến đều xuất hiện ở Trung Quốc là điều dễ hiểu.\n",
    "- Các loại thảm họa cũng phản ánh một phần về vị trí địa lý cũng như tính chất địa hình của nước đó. Chẳng hạn như lũ lụt xảy ra nhiều ở Trung Quốc và Ấn Độ vì 2 nước này có hệ thống sông ngòi lớn."
   ]
  },
  {
   "cell_type": "code",
   "execution_count": 14,
   "metadata": {},
   "outputs": [
    {
     "ename": "SyntaxError",
     "evalue": "invalid syntax (<ipython-input-14-324e74d9bfcf>, line 1)",
     "output_type": "error",
     "traceback": [
      "\u001b[1;36m  File \u001b[1;32m\"<ipython-input-14-324e74d9bfcf>\"\u001b[1;36m, line \u001b[1;32m1\u001b[0m\n\u001b[1;33m    top_disaster_count = disaster_df.groupby(['Disaster Subtype', 'Country'])[['Disaster Subtype', 'Country']].\u001b[0m\n\u001b[1;37m                                                                                                               ^\u001b[0m\n\u001b[1;31mSyntaxError\u001b[0m\u001b[1;31m:\u001b[0m invalid syntax\n"
     ]
    }
   ],
   "source": [
    "top_disaster_count = disaster_df.groupby(['Disaster Subtype', 'Country'])[['Disaster Subtype', 'Country']].\n",
    "top_disaster_count"
   ]
  },
  {
   "cell_type": "markdown",
   "metadata": {},
   "source": [
    "### Câu 2"
   ]
  },
  {
   "cell_type": "markdown",
   "metadata": {},
   "source": [
    "#### Thiệt hại qua các năm "
   ]
  },
  {
   "cell_type": "code",
   "execution_count": null,
   "metadata": {},
   "outputs": [],
   "source": [
    "total_damages = disaster_df.groupby('Year')[['Total Damages (\\'000 US$)']].agg('sum')\n",
    "total_damages"
   ]
  },
  {
   "cell_type": "code",
   "execution_count": null,
   "metadata": {},
   "outputs": [],
   "source": [
    "total_damages = disaster_df.groupby('Year')[['Total Damages (\\'000 US$)']].agg('sum')\n",
    "total_damages.plot.line(style='-o')\n",
    "plt.locator_params(integer=True)\n",
    "plt.legend().remove()\n",
    "plt.show()"
   ]
  },
  {
   "cell_type": "markdown",
   "metadata": {},
   "source": [
    "Từ line chart trên, ta thấy ở năm 2011, total damages cao bất thường. Ta hãy xem trong năm 2011, chuyện gì đã xảy ra?"
   ]
  },
  {
   "cell_type": "code",
   "execution_count": null,
   "metadata": {},
   "outputs": [],
   "source": [
    "year_2011 = disaster_df[['Disaster Subtype', 'Country', 'Total Damages (\\'000 US$)']][disaster_df['Year'] == 2011]\n",
    "year_2011 = year_2011[year_2011['Total Damages (\\'000 US$)'].notna()]\n",
    "print('Tổng số record:', len(year_2011))\n",
    "year_2011"
   ]
  },
  {
   "cell_type": "markdown",
   "metadata": {},
   "source": [
    "Năm 2011 có 56 record được thống kê thiệt hại, nhìn sơ thì khá là rối. Ta hãy lấy ra 10 sự kiện có thiệt hại cao nhất."
   ]
  },
  {
   "cell_type": "code",
   "execution_count": null,
   "metadata": {},
   "outputs": [],
   "source": [
    "top_damages_2011 = year_2011.sort_values('Total Damages (\\'000 US$)',ascending=False).head(10)\n",
    "top_damages_2011"
   ]
  },
  {
   "cell_type": "markdown",
   "metadata": {},
   "source": [
    "Vào năm 2011, ở Nhật Bản diễn ra trận sóng thần Tōhoku sau trận động đất 9 độ Richter. Kết cục của nó thì mọi người cũng đã biết, sóng thần cũng có sức tàn phá rất lớn. Nhưng chưa dừng ở đó, nhà máy điện hạt nhân Fukushima gặp sự cố làm nguội và phát nổ. Sự kiện thảm họa kép này gây ra thiệt hại rất lớn về người và của ở Nhật Bản."
   ]
  },
  {
   "cell_type": "markdown",
   "metadata": {},
   "source": [
    "Một số hình ảnh về sự kiện thảm họa kép này.\n",
    "\n",
    "Nguồn: [Thảm họa tại Nhật Bản](https://zingnews.vn/khoanh-khac-song-than-cao-10-m-ap-vao-nhat-ban-nam-2011-post519302.html)"
   ]
  },
  {
   "cell_type": "markdown",
   "metadata": {},
   "source": [
    "![Tsunami](disaster1.jpg 'Sóng thần tại Nhật Bản 2011')\n",
    "![Tsunami](disaster2.jpg 'Vụ nổ nhà máy điện hạt nhân')"
   ]
  },
  {
   "cell_type": "markdown",
   "metadata": {},
   "source": [
    "#### Thiệt hại của các nước trong thập kỷ vừa qua"
   ]
  },
  {
   "cell_type": "markdown",
   "metadata": {},
   "source": [
    "Ta lấy ra những record được ghi lại từ năm 2010 đến nay."
   ]
  },
  {
   "cell_type": "code",
   "execution_count": null,
   "metadata": {},
   "outputs": [],
   "source": [
    "last_decade = disaster_df[disaster_df['Year'] >= 2010]\n",
    "print('Tổng số record:', len(last_decade))"
   ]
  },
  {
   "cell_type": "markdown",
   "metadata": {},
   "source": [
    "Lấy danh sách 3 nước có thiệt hại cao nhất theo từng năm."
   ]
  },
  {
   "cell_type": "code",
   "execution_count": null,
   "metadata": {},
   "outputs": [],
   "source": [
    "top_damages_by_year = last_decade.groupby(['Year', 'Country'], sort=True).sum().reset_index()[\n",
    "    ['Year', 'Country', 'Total Damages (\\'000 US$)']]\n",
    "top_damages_by_year = top_damages_by_year.sort_values(['Year', 'Total Damages (\\'000 US$)'], ascending=[True, False])\n",
    "top_country_damages_by_year = top_damages_by_year.groupby('Year').head(3).reset_index(drop=True)\n",
    "\n",
    "top_country_damages_by_year"
   ]
  },
  {
   "cell_type": "code",
   "execution_count": null,
   "metadata": {},
   "outputs": [],
   "source": [
    "fig, axs = plt.subplots(3, 4, figsize=(15, 15))\n",
    "\n",
    "year = 2010\n",
    "for i in range(3):\n",
    "    for j in range(4):\n",
    "        if year > 2020:\n",
    "            pass\n",
    "        else:\n",
    "            temp_df = top_country_damages_by_year[top_country_damages_by_year['Year'] == year]\n",
    "            temp_series = temp_df['Total Damages (\\'000 US$)']\n",
    "            temp_series.index = temp_df['Country']\n",
    "            temp_series.plot.bar(ax=axs[i, j], rot=0,)\n",
    "            axs[i, j].set_title(str(year))\n",
    "            axs[i, j].set_xlabel('')\n",
    "            year += 1\n",
    "fig.tight_layout(pad=3.0)\n",
    "fig.delaxes(axs[2][3])\n",
    "plt.show()"
   ]
  },
  {
   "cell_type": "markdown",
   "metadata": {},
   "source": [
    "Ta thấy hầu như năm nào trong thập kỷ vừa rồi, Trung Quốc đều nằm trong top các nước chịu thiệt hại cao nhất nhưng Trung Quốc vẫn thuộc trong top những nước phát triển nhất thế giới. Dù Trung Quốc có nhiều điểm đáng chê, nhưng về mặt khắc phục thiệt hại và phát triển đất nước thì Trung Quốc rất đáng ngưỡng mộ."
   ]
  },
  {
   "cell_type": "markdown",
   "metadata": {},
   "source": [
    "#### Loại thảm họa gây nhiều thiệt hại nhất"
   ]
  },
  {
   "cell_type": "code",
   "execution_count": null,
   "metadata": {},
   "outputs": [],
   "source": [
    "top_damage_disaster = disaster_df.groupby('Disaster Subtype')['Total Damages (\\'000 US$)'].sum()\n",
    "top_damage_disaster = top_damage_disaster.sort_values(ascending=False)\n",
    "top_damage_disaster"
   ]
  },
  {
   "cell_type": "code",
   "execution_count": null,
   "metadata": {},
   "outputs": [],
   "source": [
    "def my_autopct(pct):\n",
    "    return ('%.2f ' % pct) if pct > 1 else ''\n",
    "\n",
    "\n",
    "percentage = top_damage_disaster / sum(top_damage_disaster)\n",
    "explode = (percentage.values > 0.1).astype(float)\n",
    "explode[explode > 0] = 0.02\n",
    "plt.pie(top_damage_disaster.values, explode=explode, autopct=my_autopct, radius=1, startangle=90, counterclock=False)\n",
    "plt.legend(top_damage_disaster.index, loc=\"upper right\")\n",
    "fig = plt.gcf()\n",
    "fig.set_size_inches(10, 10)\n",
    "plt.tight_layout()\n",
    "plt.show()"
   ]
  },
  {
   "cell_type": "markdown",
   "metadata": {},
   "source": [
    "Từ pie chart trên, ta thấy được Châu Á và Châu Đại Dương chịu ảnh hưởng chủ yếu từ bão, động đất, sóng thần và lũ lụt. \n",
    "\n",
    "Việt Nam không phải là ngoại lệ, hàng năm có hàng chục trận bão lớn nhỏ xuất hiện, kèm theo đó là lũ lụt,v.v. Nhưng vì nước mình đã được Philippines che đỡ đi phần nào thảm họa nên sức ảnh hưởng của các thảm họa ko nhiều như các nước khác."
   ]
  },
  {
   "cell_type": "markdown",
   "metadata": {},
   "source": [
    "### Câu 3"
   ]
  },
  {
   "cell_type": "markdown",
   "metadata": {},
   "source": [
    "Đây có lẽ là phần quan trọng nhất khi tìm hiểu về dữ liệu này. Qua phần này ta sẽ có được cái nhìn tổng quát về tình hình về thảm họa thiên nhiên ở Việt Nam trong 20 năm đầu của thế kỳ XXI."
   ]
  },
  {
   "cell_type": "markdown",
   "metadata": {},
   "source": [
    "#### Tổng số lượng  thảm họa tại Việt Nam "
   ]
  },
  {
   "cell_type": "markdown",
   "metadata": {},
   "source": [
    "Đầu tiên, hãy lấy ra những record thảm họa xảy ra tại Việt Nam."
   ]
  },
  {
   "cell_type": "code",
   "execution_count": null,
   "metadata": {},
   "outputs": [],
   "source": [
    "disaster_in_vn = disaster_df[disaster_df['Country']== 'Viet Nam']\n",
    "disaster_in_vn"
   ]
  },
  {
   "cell_type": "markdown",
   "metadata": {},
   "source": [
    "Dataframe ở trên có 145 dòng, nghĩa là trong 21 năm qua, có 145 vụ thảm họa diễn ra ở Việt Nam được EM-DAT ghi nhận và thống kê.\n",
    "\n",
    "Con số 145 trong vòng 21 năm có vẻ khá là ít so với cảm nhận của chúng ta về sự thay đổi thời tiết trong vòng vài năm trở lại đây. Có lẽ EM-DAT không thể tổng hợp hết tất cả các thảm họa được."
   ]
  },
  {
   "cell_type": "markdown",
   "metadata": {},
   "source": [
    "#### Sự thay đổi về số lượng thảm họa qua các năm"
   ]
  },
  {
   "cell_type": "code",
   "execution_count": null,
   "metadata": {},
   "outputs": [],
   "source": [
    "yearly_count_vn = disaster_in_vn.groupby('Year')['Disaster Subtype'].value_counts()\n",
    "yearly_count_vn"
   ]
  },
  {
   "cell_type": "code",
   "execution_count": null,
   "metadata": {},
   "outputs": [],
   "source": [
    "yearly_count_vn.unstack().plot.bar(figsize=(15, 10), stacked=True, rot=0)\n",
    "plt.xlabel('')\n",
    "plt.legend(loc='upper left')\n",
    "plt.show()"
   ]
  },
  {
   "cell_type": "markdown",
   "metadata": {},
   "source": [
    "Nhìn sơ qua bar chart ở trên thì ta có thể thấy được chủ yếu thảm họa tại Việt Nam là bão nhiệt đới và lũ lụt. Điều này khá là chính xác với thực tế mà ta có thể quan sát được."
   ]
  },
  {
   "cell_type": "markdown",
   "metadata": {},
   "source": [
    "#### Tần suất xuất hiện của thảm họa theo tháng"
   ]
  },
  {
   "cell_type": "code",
   "execution_count": null,
   "metadata": {},
   "outputs": [],
   "source": [
    "monthly_count_vn = disaster_in_vn.groupby('Start Month')['Disaster Subtype'].value_counts()\n",
    "monthly_count_vn"
   ]
  },
  {
   "cell_type": "code",
   "execution_count": null,
   "metadata": {},
   "outputs": [],
   "source": [
    "monthly_count_vn.unstack().plot.bar(figsize=(15, 10), stacked=True, rot=0)\n",
    "plt.xlabel('')\n",
    "plt.legend(loc='upper left')\n",
    "plt.show()"
   ]
  },
  {
   "cell_type": "markdown",
   "metadata": {},
   "source": [
    "Tương tự như tổng kết số lượng theo năm, ta cũng đánh giá số lượng theo từng tháng. \n",
    "\n",
    "Ta thấy được số lượng thảm họa tăng đột biến vào tháng 7 đến tháng 11.\n",
    "Đây là mùa mưa bão đặc trưng của Việt Nam, nên số lượng tăng lên không có gì lạ.\n",
    "\n",
    "Điều kỳ lạ ở đây là EM-DAT không thống kê được bất kỳ record nào vào tháng 1 và tháng 2? Có thể là do một số lý do sau:\n",
    "- Tháng 1 và tháng 2 thường nằm vào thời gian đầu năm mới theo âm lịch. Mà khoảng thời gian này thời tiết ở Việt Nam rất đẹp, hiếm khi có thảm họa tự nhiên, hoặc nếu có thì ảnh hưởng rất thấp, không đáng kể nên EM-DAT không thống kê.\n",
    "- Như ở trên, 2 tháng này thường trùng vào đầu năm mới âm lịch. Người dân Việt Nam ăn mừng năm mới, không có ai đi tổng kết, thống kê các thiên tai để bổ sung vào cơ sở dữ liệu. 🤔"
   ]
  },
  {
   "cell_type": "markdown",
   "metadata": {},
   "source": [
    "#### Mức độ ảnh hưởng của thiên tai"
   ]
  },
  {
   "cell_type": "markdown",
   "metadata": {},
   "source": [
    "Mức độ ảnh hưởng ở đây được tính bởi cột Total Damages, là số tiền để khắc phục hậu quả của thiên tai gây ra."
   ]
  },
  {
   "cell_type": "markdown",
   "metadata": {},
   "source": [
    "**Theo năm**"
   ]
  },
  {
   "cell_type": "code",
   "execution_count": null,
   "metadata": {},
   "outputs": [],
   "source": [
    "damages_by_year = disaster_in_vn.groupby('Year')['Total Damages (\\'000 US$)'].sum()\n",
    "damages_by_year"
   ]
  },
  {
   "cell_type": "code",
   "execution_count": null,
   "metadata": {},
   "outputs": [],
   "source": [
    "plt.plot(damages_by_year,'o-')\n",
    "plt.locator_params(integer=True)\n",
    "plt.show()"
   ]
  },
  {
   "cell_type": "markdown",
   "metadata": {},
   "source": [
    "Năm 2015, thiệt hại tăng lên đột biến. Ta xem xét những thiên tai ở năm này."
   ]
  },
  {
   "cell_type": "code",
   "execution_count": null,
   "metadata": {},
   "outputs": [],
   "source": [
    "year_2015 = disaster_in_vn[disaster_in_vn['Year'] == 2015]\n",
    "year_2015"
   ]
  },
  {
   "cell_type": "markdown",
   "metadata": {},
   "source": [
    "Hãy bỏ đi những cột không cần thiết để dễ nhìn hơn."
   ]
  },
  {
   "cell_type": "code",
   "execution_count": null,
   "metadata": {},
   "outputs": [],
   "source": [
    "year_2015 = year_2015[['Disaster Type', 'Disaster Subtype','Start Month','Location','Total Affected','Total Damages (\\'000 US$)']]\n",
    "year_2015"
   ]
  },
  {
   "cell_type": "markdown",
   "metadata": {},
   "source": [
    "Năm 2015 là năm mà nước ta chịu hạn hán ở khắp miền Bắc và lũ lụt ở các tỉnh miền Trung ở mức độ khắc nghiệt bất thường. Nền nhiệt cao kỷ lục cùng với mưa lớn, ngập lụt kéo dài nhiều ngày ở khắp nơi khiến cho nền nông nghiệp nước ta chịu ảnh hưởng nặng nề."
   ]
  },
  {
   "cell_type": "markdown",
   "metadata": {},
   "source": [
    "---"
   ]
  },
  {
   "cell_type": "markdown",
   "metadata": {},
   "source": [
    "## Nhìn lại quá trình làm đồ án "
   ]
  },
  {
   "cell_type": "markdown",
   "metadata": {},
   "source": [
    "### Khó khăn gặp phải "
   ]
  },
  {
   "cell_type": "markdown",
   "metadata": {},
   "source": [
    "Trong quá trình làm đồ án, một số khó khăn mà em gặp phải là:\n",
    "1. Khó khăn trong việc tìm dữ liệu mà mình thực sự muốn làm.\n",
    "2. Chọn ra những câu hỏi để trả lời."
   ]
  },
  {
   "cell_type": "markdown",
   "metadata": {},
   "source": [
    "### Những điều học được "
   ]
  },
  {
   "cell_type": "markdown",
   "metadata": {},
   "source": [
    "Sau khi hoàn thiện đồ án, em cảm thấy học được một số điều:\n",
    "1. Kiến thức về các pandas, numpy library được cải thiện.\n",
    "2. Khả năng trình bày dữ liệu trực quan được cải thiện."
   ]
  },
  {
   "cell_type": "markdown",
   "metadata": {},
   "source": [
    "**Nếu có thêm thời gian**\n",
    "\n",
    "Có lẽ em sẽ đầu tư thêm thời gian hơn để tìm kiếm những câu hỏi hay hơn và cách giải quyết câu hỏi đó bằng dữ liệu một cách tốt hơn."
   ]
  },
  {
   "cell_type": "markdown",
   "metadata": {},
   "source": [
    "## Tài liệu tham khảo"
   ]
  },
  {
   "cell_type": "markdown",
   "metadata": {},
   "source": [
    "Một số nguồn tài liệu tham khảo:\n",
    "1. [Pandas](https://pandas.pydata.org/docs/)\n",
    "2. [Numpy](https://numpy.org/devdocs/index.html)\n",
    "3. [Matplotlib](https://matplotlib.org/3.1.1/api/_as_gen/matplotlib.pyplot.html)\n",
    "4. [Stack overflow](https://stackoverflow.com/)"
   ]
  }
 ],
 "metadata": {
  "kernelspec": {
   "display_name": "Python 3",
   "language": "python",
   "name": "python3"
  },
  "language_info": {
   "codemirror_mode": {
    "name": "ipython",
    "version": 3
   },
   "file_extension": ".py",
   "mimetype": "text/x-python",
   "name": "python",
   "nbconvert_exporter": "python",
   "pygments_lexer": "ipython3",
   "version": "3.8.3"
  }
 },
 "nbformat": 4,
 "nbformat_minor": 4
}
